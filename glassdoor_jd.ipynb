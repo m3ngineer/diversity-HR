{
 "cells": [
  {
   "cell_type": "markdown",
   "metadata": {
    "collapsed": true
   },
   "source": [
    "## Glassdoor Selenium Scraper"
   ]
  },
  {
   "cell_type": "code",
   "execution_count": 1,
   "metadata": {
    "collapsed": true
   },
   "outputs": [],
   "source": [
    "# import selenium stuff\n",
    "from selenium import webdriver\n",
    "from selenium.webdriver.common.by import By\n",
    "from selenium.webdriver.support.ui import WebDriverWait\n",
    "from selenium.webdriver.support import expected_conditions as EC\n",
    "from selenium.common.exceptions import NoSuchElementException\n",
    "\n",
    "import time\n",
    "import csv"
   ]
  },
  {
   "cell_type": "code",
   "execution_count": 2,
   "metadata": {},
   "outputs": [
    {
     "data": {
      "text/plain": [
       "27"
      ]
     },
     "execution_count": 2,
     "metadata": {},
     "output_type": "execute_result"
    }
   ],
   "source": [
    "# initialize the Chrome driver\n",
    "driver = webdriver.Chrome()\n",
    "driver.get(\"https://www.glassdoor.com/Job/new-york-software-engineer-jobs-SRCH_IL.0,8_IC1132348_KO9,26_IP2.htm\")\n",
    "\n",
    "# open a new csv and write data into the file\n",
    "csv_file = open('jds.csv', 'w')\n",
    "writer = csv.writer(csv_file)\n",
    "\n",
    "# write column headers for each of the variables to scrape\n",
    "writer.writerow(['title', 'company', 'description'])"
   ]
  },
  {
   "cell_type": "code",
   "execution_count": 3,
   "metadata": {},
   "outputs": [
    {
     "data": {
      "text/plain": [
       "34"
      ]
     },
     "execution_count": 3,
     "metadata": {},
     "output_type": "execute_result"
    }
   ],
   "source": [
    "# the total number of jobs in a page\n",
    "jobs = driver.find_elements_by_xpath('//li[@class=\"jl\"]')\n",
    "len(jobs)"
   ]
  },
  {
   "cell_type": "markdown",
   "metadata": {},
   "source": [
    "### debug the scraped items"
   ]
  },
  {
   "cell_type": "code",
   "execution_count": 4,
   "metadata": {
    "collapsed": true
   },
   "outputs": [],
   "source": [
    "job = jobs[0]"
   ]
  },
  {
   "cell_type": "code",
   "execution_count": 5,
   "metadata": {},
   "outputs": [],
   "source": [
    "# click a specific job\n",
    "job.find_element_by_xpath('.//a[@class=\"jobLink\"]').click()"
   ]
  },
  {
   "cell_type": "code",
   "execution_count": 6,
   "metadata": {},
   "outputs": [
    {
     "data": {
      "text/plain": [
       "'Software Engineer'"
      ]
     },
     "execution_count": 6,
     "metadata": {},
     "output_type": "execute_result"
    }
   ],
   "source": [
    "# job title\n",
    "job.find_element_by_xpath('//*[@id=\"HeroHeaderModule\"]/div[3]/div[1]/h1').text"
   ]
  },
  {
   "cell_type": "code",
   "execution_count": 7,
   "metadata": {},
   "outputs": [
    {
     "data": {
      "text/plain": [
       "'Addepar'"
      ]
     },
     "execution_count": 7,
     "metadata": {},
     "output_type": "execute_result"
    }
   ],
   "source": [
    "# company name\n",
    "job.find_element_by_xpath('//*[@id=\"HeroHeaderModule\"]/div[3]/div[3]/a').text"
   ]
  },
  {
   "cell_type": "code",
   "execution_count": 8,
   "metadata": {},
   "outputs": [
    {
     "data": {
      "text/plain": [
       "\"Addepar is building a single platform unifying hundreds of portfolio and market data systems and leveraging that platform to create robust, powerful financial applications.\\n\\nThe technical effort involved is massive. Addepar engineering builds portfolio data ingestion systems that process tens of millions of transactions across millions of accounts every day, and pricing and reference data systems that provide coverage for over a trillion dollars in assets. We build and run our own distributing serving and financial calculation framework that allows clients to run complex analysis of massive data sets in real time. We design robust APIs and powerful, versatile user interfaces to empower wealth managers to ask nuanced questions about their clients' holdings.\\n\\nThe group youll be joining includes senior engineers and leads who have worked at companies like Facebook, Google, LinkedIn, DE Shaw, Two Sigma, and other top software firms and quantitative hedge funds. If you've designed complex scalable systems, built powerful and intuitive user interfaces, or worked with great teams on hard problems in financial data, come join us.\\n\\nOur engineering team works in Java, Python, and Javascript, but we dont require prior experience with any specific tool set. Great software engineers can pick up new languages on the job. More than checking the boxes on specific technologies, we're looking for driven engineers with real technical depth and a desire to understand the end business. We want people who are passionate and care deeply about the success of the whole company.\\n\\nThe problems were tackling at Addepar are complex, but theyre also globally important. Addepar has the potential to make a huge swath of private investing more transparent, more efficient, and more ethical. If youre interested in that, were excited to meet you.\\nRequirements\\nB.S., M.S., or Ph.D. in Computer Science or similar technical field of study (or equivalent practical experience.).\\n5+ years experience as a professional software engineer.\\nA passion for implementing best practices and a bias toward smart automation.\\nProven ability to collaborate with and mentor other engineers.\\nExperience building massively distributed systems, modeling financial data, or building intuitive, feature-rich user interfaces.\\nAt Addepar, we rely on a range of backgrounds, experiences, and ideas. We value diversity, and were proud to be an inclusive, equal opportunity workplace.\""
      ]
     },
     "execution_count": 8,
     "metadata": {},
     "output_type": "execute_result"
    }
   ],
   "source": [
    "# job description\n",
    "job.find_element_by_xpath('//*[@id=\"JobDescriptionContainer\"]').text"
   ]
  },
  {
   "cell_type": "code",
   "execution_count": 9,
   "metadata": {},
   "outputs": [],
   "source": [
    "# click next page button\n",
    "driver.find_element(By.XPATH,'//*[@id=\"FooterPageNav\"]/div/ul/li[7]/a').click()"
   ]
  },
  {
   "cell_type": "markdown",
   "metadata": {},
   "source": [
    "### write a csv file"
   ]
  },
  {
   "cell_type": "code",
   "execution_count": null,
   "metadata": {},
   "outputs": [],
   "source": [
    "index = 1\n",
    "while index <= 20:\n",
    "    try:\n",
    "        print(\"Scraping Page number \" + str(index))\n",
    "\n",
    "        # find all the jobs\n",
    "        jobs = driver.find_elements_by_xpath('//li[@class=\"jl\"]')\n",
    "        \n",
    "        for i in range(len(jobs)):\n",
    "            \n",
    "            # click 'expand' button for each job\n",
    "            jobs[i].find_element_by_xpath('.//a[@class=\"jobLink\"]').click()\n",
    "            \n",
    "            # set time sleep to make sure the scraper get the info\n",
    "            time.sleep(2)\n",
    "            \n",
    "            # initialize an empty dictionary for each job\n",
    "            job_dict = {}\n",
    "        \n",
    "            try:\n",
    "                title = jobs[i].find_element_by_xpath('//*[@id=\"HeroHeaderModule\"]/div[3]/div[1]/h1').text\n",
    "                job_dict['title'] = title\n",
    "                print(title)\n",
    "            except NoSuchElementException and AttributeError:\n",
    "                job_dict['title'] = \"NA\"\n",
    "\n",
    "            try:\n",
    "                company = jobs[i].find_element_by_xpath('//*[@id=\"HeroHeaderModule\"]/div[3]/div[3]/a').text\n",
    "                job_dict['company'] = company\n",
    "                print(company)\n",
    "            except NoSuchElementException and AttributeError:\n",
    "                job_dict['company'] = \"NA\"\n",
    "                \n",
    "            try:\n",
    "                description = jobs[i].find_element_by_xpath('//*[@id=\"JobDescriptionContainer\"]').text\n",
    "                job_dict['description'] = description\n",
    "            except NoSuchElementException and AttributeError:\n",
    "                job_dict['description'] = \"NA\"\n",
    "            \n",
    "            writer.writerow(job_dict.values())\n",
    "            \n",
    "        # click 'next page' button\n",
    "        driver.find_element(By.XPATH,'//*[@id=\"FooterPageNav\"]/div/ul/li[7]/a').click()\n",
    "        \n",
    "        index = index + 1\n",
    "        time.sleep(3)\n",
    "\n",
    "    except Exception as e:\n",
    "        print(e)\n",
    "        csv_file.close()\n",
    "        driver.close()\n",
    "        break"
   ]
  },
  {
   "cell_type": "code",
   "execution_count": null,
   "metadata": {
    "collapsed": true
   },
   "outputs": [],
   "source": []
  }
 ],
 "metadata": {
  "kernelspec": {
   "display_name": "Python 3",
   "language": "python",
   "name": "python3"
  },
  "language_info": {
   "codemirror_mode": {
    "name": "ipython",
    "version": 3
   },
   "file_extension": ".py",
   "mimetype": "text/x-python",
   "name": "python",
   "nbconvert_exporter": "python",
   "pygments_lexer": "ipython3",
   "version": "3.6.1"
  }
 },
 "nbformat": 4,
 "nbformat_minor": 2
}
