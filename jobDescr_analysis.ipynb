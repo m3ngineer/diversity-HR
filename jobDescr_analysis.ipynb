{
 "cells": [
  {
   "cell_type": "code",
   "execution_count": 2,
   "metadata": {
    "collapsed": true
   },
   "outputs": [],
   "source": [
    "%matplotlib inline"
   ]
  },
  {
   "cell_type": "code",
   "execution_count": 3,
   "metadata": {
    "collapsed": true
   },
   "outputs": [],
   "source": [
    "import pandas as pd\n",
    "import numpy as np\n",
    "import matplotlib.pyplot as plt\n",
    "from collections import Counter\n",
    "import re\n",
    "\n",
    "from nltk.stem.snowball import SnowballStemmer\n",
    "from nltk.stem.porter import PorterStemmer\n",
    "from nltk.stem.wordnet import WordNetLemmatizer\n",
    "from nltk import word_tokenize \n",
    "import string\n",
    "\n",
    "from sklearn.feature_extraction.text import TfidfVectorizer, CountVectorizer\n",
    "from sklearn.naive_bayes import MultinomialNB, BernoulliNB\n",
    "from sklearn.model_selection import GridSearchCV\n",
    "from sklearn.pipeline import Pipeline\n",
    "from sklearn.linear_model import SGDClassifier\n",
    "\n",
    "#from sklearn.model_selection import test_tr"
   ]
  },
  {
   "cell_type": "code",
   "execution_count": 4,
   "metadata": {
    "collapsed": true
   },
   "outputs": [],
   "source": [
    "divcorpus = pd.read_csv('diversity_corpus.csv')"
   ]
  },
  {
   "cell_type": "code",
   "execution_count": 5,
   "metadata": {
    "collapsed": true
   },
   "outputs": [],
   "source": [
    "divcorpus.head()\n",
    "\n",
    "masc_bow = divcorpus['genderSpecific']\n",
    "neutral_bow = divcorpus['neutralEquality']\n",
    "\n",
    "# format bow to list\n",
    "masc_bow = masc_bow[:-2]\n",
    "masc_bow = [i.lower() for i in list(masc_bow)]\n",
    "neutral_bow = [i.lower() for i in list(neutral_bow)]"
   ]
  },
  {
   "cell_type": "code",
   "execution_count": 6,
   "metadata": {
    "collapsed": true
   },
   "outputs": [],
   "source": [
    "# Train, test, split\n"
   ]
  },
  {
   "cell_type": "code",
   "execution_count": 7,
   "metadata": {},
   "outputs": [
    {
     "data": {
      "text/plain": [
       "'have'"
      ]
     },
     "execution_count": 7,
     "metadata": {},
     "output_type": "execute_result"
    }
   ],
   "source": [
    "# stem words from job descript to determine whether they include words in neutral/masc words\n",
    "\n",
    "porter = PorterStemmer()\n",
    "snowball = SnowballStemmer('english')\n",
    "wordnet = WordNetLemmatizer()\n",
    "porter.stem('having')"
   ]
  },
  {
   "cell_type": "code",
   "execution_count": 8,
   "metadata": {
    "collapsed": true
   },
   "outputs": [],
   "source": [
    "class LemmaTokenizer(object):\n",
    "    def __init__(self):\n",
    "        self.wnl = WordNetLemmatizer()\n",
    "        self.tokens = None\n",
    "    def __call__(self, articles):\n",
    "        self.tokens = [self.wnl.lemmatize(t) for t in word_tokenize(articles)]\n",
    "        self.tokens = [i.lower() for i in self.tokens if i not in string.punctuation]\n",
    "        self.tokens = [i for i in self.tokens if i not in string.ascii_letters]\n",
    "        return self.tokens"
   ]
  },
  {
   "cell_type": "code",
   "execution_count": 10,
   "metadata": {},
   "outputs": [],
   "source": [
    "# tf = TfidfVectorizer(stop_words='english', \n",
    "#                      tokenizer=LemmaTokenizer(), \n",
    "#                      strip_accents = 'unicode',\n",
    "#                      lowercase = True\n",
    "#                     )\n",
    "# #replace punctuation\n",
    "# # df['TEXT'] = df['TEXT'].str.replace('[^\\w\\s]', '')\n",
    "\n",
    "# tf_mat = tf.fit_transform(corpus)\n",
    "# vocab = tf.get_feature_names()"
   ]
  },
  {
   "cell_type": "code",
   "execution_count": 12,
   "metadata": {
    "scrolled": true
   },
   "outputs": [
    {
     "ename": "NameError",
     "evalue": "name 'vocab' is not defined",
     "output_type": "error",
     "traceback": [
      "\u001b[0;31m---------------------------------------------------------------------------\u001b[0m",
      "\u001b[0;31mNameError\u001b[0m                                 Traceback (most recent call last)",
      "\u001b[0;32m<ipython-input-12-78d555e7ab7f>\u001b[0m in \u001b[0;36m<module>\u001b[0;34m()\u001b[0m\n\u001b[0;32m----> 1\u001b[0;31m \u001b[0mvocab\u001b[0m\u001b[0;34m[\u001b[0m\u001b[0;36m20\u001b[0m\u001b[0;34m:\u001b[0m\u001b[0;36m25\u001b[0m\u001b[0;34m]\u001b[0m\u001b[0;34m\u001b[0m\u001b[0m\n\u001b[0m",
      "\u001b[0;31mNameError\u001b[0m: name 'vocab' is not defined"
     ]
    }
   ],
   "source": [
    "vocab[20:25]"
   ]
  },
  {
   "cell_type": "markdown",
   "metadata": {},
   "source": [
    "### Identify freq that a word appears in a document, categorize at masc/fem\n"
   ]
  },
  {
   "cell_type": "code",
   "execution_count": 13,
   "metadata": {},
   "outputs": [
    {
     "data": {
      "text/html": [
       "<div>\n",
       "<style>\n",
       "    .dataframe thead tr:only-child th {\n",
       "        text-align: right;\n",
       "    }\n",
       "\n",
       "    .dataframe thead th {\n",
       "        text-align: left;\n",
       "    }\n",
       "\n",
       "    .dataframe tbody tr th {\n",
       "        vertical-align: top;\n",
       "    }\n",
       "</style>\n",
       "<table border=\"1\" class=\"dataframe\">\n",
       "  <thead>\n",
       "    <tr style=\"text-align: right;\">\n",
       "      <th></th>\n",
       "      <th>title</th>\n",
       "      <th>company</th>\n",
       "      <th>description</th>\n",
       "    </tr>\n",
       "  </thead>\n",
       "  <tbody>\n",
       "    <tr>\n",
       "      <th>0</th>\n",
       "      <td>Software Engineer</td>\n",
       "      <td>SeatGeek</td>\n",
       "      <td>The Overview\\n\\nWe're looking for smart, curio...</td>\n",
       "    </tr>\n",
       "    <tr>\n",
       "      <th>1</th>\n",
       "      <td>Software Development Engineer</td>\n",
       "      <td>Amazon</td>\n",
       "      <td>Job Description\\nAre you looking for an exciti...</td>\n",
       "    </tr>\n",
       "    <tr>\n",
       "      <th>2</th>\n",
       "      <td>Software Engineer</td>\n",
       "      <td>CALA</td>\n",
       "      <td>CALA is building apparel manufacturing, invent...</td>\n",
       "    </tr>\n",
       "    <tr>\n",
       "      <th>3</th>\n",
       "      <td>Software Engineer</td>\n",
       "      <td>Greenhouse Software</td>\n",
       "      <td>Greenhouse is looking for a Software Engineer ...</td>\n",
       "    </tr>\n",
       "    <tr>\n",
       "      <th>4</th>\n",
       "      <td>Software Engineer</td>\n",
       "      <td>Macquarie Group</td>\n",
       "      <td>Bring your experience in Software Engineering ...</td>\n",
       "    </tr>\n",
       "  </tbody>\n",
       "</table>\n",
       "</div>"
      ],
      "text/plain": [
       "                           title              company  \\\n",
       "0              Software Engineer             SeatGeek   \n",
       "1  Software Development Engineer               Amazon   \n",
       "2              Software Engineer                 CALA   \n",
       "3              Software Engineer  Greenhouse Software   \n",
       "4              Software Engineer      Macquarie Group   \n",
       "\n",
       "                                         description  \n",
       "0  The Overview\\n\\nWe're looking for smart, curio...  \n",
       "1  Job Description\\nAre you looking for an exciti...  \n",
       "2  CALA is building apparel manufacturing, invent...  \n",
       "3  Greenhouse is looking for a Software Engineer ...  \n",
       "4  Bring your experience in Software Engineering ...  "
      ]
     },
     "execution_count": 13,
     "metadata": {},
     "output_type": "execute_result"
    }
   ],
   "source": [
    "# download job descriptions\n",
    "\n",
    "jds = pd.read_csv('jds.csv')\n",
    "jds.head()"
   ]
  },
  {
   "cell_type": "code",
   "execution_count": 14,
   "metadata": {},
   "outputs": [
    {
     "data": {
      "text/plain": [
       "'Learn and work on meaningful initiatives with some of the best and brightest in the market research industry. The NPD Group provides the world’s most successful brands with leading market research, combining consumer and retail point-of-sale data with analytic solutions to interpret today’s market trends while anticipating tomorrow’s. In addition, we offer a career filled with innovation and growth to the forward-thinking problem solvers who join our team. Position Overview Work on the latest technologies influencing the innovation of products in a highly collaborative environment. Checkout is a revolutionary marketing research platform that captures consumer purchases from smartphones and transforms the data into information products for our many clients. From millions of consumers we mine hundreds of millions of receipts - yielding transaction-level detail across all retailers, all channels, and over time. Join this startup business with the financial backing of one of the marketing research industry’s leading companies. Responsibilities include, but not limited to: Develop and maintain software applications and services in support of the Checkout business. Technical liaison for outsourced iOS & Android app developers. Build and maintain written documentation and diagrams. Follow agile software development lifecycle techniques. Monitor and Support Checkout Tracking infrastructure – working closely with NPD Enterprise Team. Review, understand and refine support processes for standard protocols, including but not limited to escalation procedures and widows patching. Review, understand and refine DR environment and procedures. Work with outside service providers to leverage their API’s, and / or construct, test, and document our own API’s. Qualifications: 4+ years of software development experience using .NET technologies (ASP.NET, C#, VB, WCF, windows application and services). Experience writing and maintaining .NET RESTful services. Knowledge of Cloud technologies (e.g., Azure, AWS) a plus. 3+ years using SQL Server 2008 or higher. Ability to communicate technical concepts to both technical and non-technical audiences. Ability to troubleshoot applications and provide root cause analysis and remediation. Creative thinker with improvement mindset. Strong understanding of the software development life cycle (SDLC) including experience gathering requirements, coding, testing, supporting and maintaining applications. Familiarity with Agile management practices preferred. Proficient in all MS Office products (Strong Excel, PowerPoint, Word). Undergraduate degree in Computer Science or equivalent work experience. Ability to work with hybrid onshore/offshore team. Solid written and verbal communication skills. The NPD Group, Inc. is an Affirmative Action/Equal Opportunity Employer. All qualified applicants will receive consideration for employment without regard to race, color, religion, sex, sexual orientation, gender identity, national origin, disability or protected veteran status or any other characteristic protected by law.'"
      ]
     },
     "execution_count": 14,
     "metadata": {},
     "output_type": "execute_result"
    }
   ],
   "source": [
    "jds.iloc[75]['description']"
   ]
  },
  {
   "cell_type": "code",
   "execution_count": 15,
   "metadata": {
    "collapsed": true
   },
   "outputs": [],
   "source": [
    "jds = jds.astype({'description': 'str'})"
   ]
  },
  {
   "cell_type": "code",
   "execution_count": 16,
   "metadata": {},
   "outputs": [
    {
     "name": "stdout",
     "output_type": "stream",
     "text": [
      "<class 'pandas.core.frame.DataFrame'>\n",
      "RangeIndex: 145 entries, 0 to 144\n",
      "Data columns (total 3 columns):\n",
      "title          145 non-null object\n",
      "company        145 non-null object\n",
      "description    145 non-null object\n",
      "dtypes: object(3)\n",
      "memory usage: 3.5+ KB\n"
     ]
    }
   ],
   "source": [
    "jds.info()"
   ]
  },
  {
   "cell_type": "code",
   "execution_count": 17,
   "metadata": {},
   "outputs": [
    {
     "name": "stdout",
     "output_type": "stream",
     "text": [
      "['The Overview', '', \"We're looking for smart, curious engineers who want to help millions of people experience the thrill of live entertainment. The ticketing industry is messy, complex and ultimately makes attending live events more difficult than it should be; we believe a thoughtful application of software can fix that.\", '', 'SeatGeek is a product-centric organization that deploys code into production multiple times per day. Our application is built in the microservice architectural style and we strive to use the best language for the task at hand. As we grow, the scale of our technical challenges - and their impact on our customers - continues to increase. We want to make sure we continue to build the best product we can.', '', \"What We're Looking For\", \"Experience building web applications, especially within a microservices architecture. We'll be most interested in hearing about what you've built\", \"Experience solving complex technical challenges. SeatGeek engineers have had to create custom solutions to rather unique ticketing problems, including venue mapping, inventory tracking, and event matching. We'll be excited to hear about challenging problems you've faced and solved\", 'Confidence with at least one language and comfort with several others', 'Passion for software craftsmanship and product. You have well-considered opinions about how software should work, and hold yourself and your code to a high standard', 'Commitment to your teammates. You enjoy working with a diverse group of people with different experiences and take pride in mentoring and learning from others', 'The Tools We Use', '', 'You absolutely do not need experience with all of these, but we thought you might be curious. Tools can be learned, so we care much more about your general engineering skill than knowledge of a particular language.', 'Languages: Python (our primary language), C#/.NET Core, Go and PHP', 'Datastores: MySQL, Redis, RabbitMQ and Elasticsearch', 'Server: Nginx, Tornado and flask for Python, all running on AWS', 'Monitoring: InfluxDB/Grafana, Graylog, DataDog & PagerDuty', 'Version control: Git', 'Clientside: we make heavy use of React/Redux on the frontend']\n",
      "<class 'str'>\n"
     ]
    }
   ],
   "source": [
    "for i in jds['description']:\n",
    "    i = i.splitlines()\n",
    "    print(i)\n",
    "    i = ' '.join(i)\n",
    "    print(type(i))\n",
    "    break"
   ]
  },
  {
   "cell_type": "code",
   "execution_count": 18,
   "metadata": {
    "collapsed": true
   },
   "outputs": [],
   "source": [
    "# create article matrix\n",
    "equality_mat = pd.DataFrame(columns =['articleID', 'num_neutrWords', 'num_specWords', 'neutroSpecRatio', 'score', 'label', 'neutrWords', 'specWords'])\n",
    "\n",
    "corpus = jds['description'][:]\n"
   ]
  },
  {
   "cell_type": "code",
   "execution_count": 20,
   "metadata": {},
   "outputs": [
    {
     "name": "stderr",
     "output_type": "stream",
     "text": [
      "/Users/mattheweng/anaconda/lib/python3.6/site-packages/ipykernel_launcher.py:31: SettingWithCopyWarning: \n",
      "A value is trying to be set on a copy of a slice from a DataFrame\n",
      "\n",
      "See the caveats in the documentation: http://pandas.pydata.org/pandas-docs/stable/indexing.html#indexing-view-versus-copy\n"
     ]
    }
   ],
   "source": [
    "# identify freq of terms that are masc and fem\n",
    "lt = LemmaTokenizer()\n",
    "\n",
    "for i, article in enumerate(corpus):\n",
    "    article_bow = lt.__call__(article)\n",
    "    count_n = 0\n",
    "    count_m = 0\n",
    "    neutrWords = []\n",
    "    specWords = []\n",
    "    for j in article_bow:\n",
    "        if j in neutral_bow:\n",
    "            count_n += 1\n",
    "            neutrWords.append(j)\n",
    "        if j in masc_bow:\n",
    "            count_m += 1\n",
    "            specWords.append(j)\n",
    "    df = pd.DataFrame({'articleID': [int(i)], \n",
    "              'num_neutrWords': [count_n], \n",
    "              'num_specWords': [count_m], \n",
    "              'neutrSpecRatio': [(1 + count_n)/(1 + count_m)], \n",
    "              'score': [(1 + count_n)/(1 + count_m) - 1],\n",
    "              'label': 0,\n",
    "              'neutrWords': [neutrWords],\n",
    "              'specWords': [specWords]} # = equal/neutral\n",
    "             )\n",
    "    \n",
    "    equality_mat = pd.concat([equality_mat, df])\n",
    "    #equality_mat.astype({'articleID': 'int'})\n",
    "    #equality_mat.set_index('articleID', inplace=True)\n",
    "\n",
    "equality_mat['label'][equality_mat['score'] < 0] = 1"
   ]
  },
  {
   "cell_type": "code",
   "execution_count": 21,
   "metadata": {},
   "outputs": [
    {
     "name": "stdout",
     "output_type": "stream",
     "text": [
      "<class 'pandas.core.frame.DataFrame'>\n",
      "Int64Index: 145 entries, 0 to 0\n",
      "Data columns (total 9 columns):\n",
      "articleID          145 non-null object\n",
      "label              145 non-null object\n",
      "neutrSpecRatio     145 non-null float64\n",
      "neutrWords         145 non-null object\n",
      "neutroSpecRatio    0 non-null object\n",
      "num_neutrWords     145 non-null object\n",
      "num_specWords      145 non-null object\n",
      "score              145 non-null float64\n",
      "specWords          145 non-null object\n",
      "dtypes: float64(2), object(7)\n",
      "memory usage: 11.3+ KB\n"
     ]
    }
   ],
   "source": [
    "equality_mat.info()"
   ]
  },
  {
   "cell_type": "code",
   "execution_count": 22,
   "metadata": {
    "collapsed": true
   },
   "outputs": [],
   "source": [
    "jds_bow = []\n",
    "for article in jds['description']:\n",
    "    article_bow = lt.__call__(article)\n",
    "    jds_bow.append(article_bow)\n",
    "\n",
    "jds_bow = np.array(jds_bow)"
   ]
  },
  {
   "cell_type": "code",
   "execution_count": 23,
   "metadata": {
    "collapsed": true
   },
   "outputs": [],
   "source": [
    "# identify most related "
   ]
  },
  {
   "cell_type": "code",
   "execution_count": 24,
   "metadata": {
    "scrolled": true
   },
   "outputs": [
    {
     "data": {
      "text/html": [
       "<div>\n",
       "<style>\n",
       "    .dataframe thead tr:only-child th {\n",
       "        text-align: right;\n",
       "    }\n",
       "\n",
       "    .dataframe thead th {\n",
       "        text-align: left;\n",
       "    }\n",
       "\n",
       "    .dataframe tbody tr th {\n",
       "        vertical-align: top;\n",
       "    }\n",
       "</style>\n",
       "<table border=\"1\" class=\"dataframe\">\n",
       "  <thead>\n",
       "    <tr style=\"text-align: right;\">\n",
       "      <th></th>\n",
       "      <th>articleID</th>\n",
       "      <th>label</th>\n",
       "      <th>neutrSpecRatio</th>\n",
       "      <th>neutrWords</th>\n",
       "      <th>neutroSpecRatio</th>\n",
       "      <th>num_neutrWords</th>\n",
       "      <th>num_specWords</th>\n",
       "      <th>score</th>\n",
       "      <th>specWords</th>\n",
       "    </tr>\n",
       "  </thead>\n",
       "  <tbody>\n",
       "    <tr>\n",
       "      <th>0</th>\n",
       "      <td>0</td>\n",
       "      <td>1</td>\n",
       "      <td>0.50</td>\n",
       "      <td>[]</td>\n",
       "      <td>NaN</td>\n",
       "      <td>0</td>\n",
       "      <td>1</td>\n",
       "      <td>-0.50</td>\n",
       "      <td>[opinion]</td>\n",
       "    </tr>\n",
       "    <tr>\n",
       "      <th>0</th>\n",
       "      <td>1</td>\n",
       "      <td>0</td>\n",
       "      <td>4.00</td>\n",
       "      <td>[support, sexual, orientation]</td>\n",
       "      <td>NaN</td>\n",
       "      <td>3</td>\n",
       "      <td>0</td>\n",
       "      <td>3.00</td>\n",
       "      <td>[]</td>\n",
       "    </tr>\n",
       "    <tr>\n",
       "      <th>0</th>\n",
       "      <td>2</td>\n",
       "      <td>0</td>\n",
       "      <td>1.50</td>\n",
       "      <td>[support, together]</td>\n",
       "      <td>NaN</td>\n",
       "      <td>2</td>\n",
       "      <td>1</td>\n",
       "      <td>0.50</td>\n",
       "      <td>[decision]</td>\n",
       "    </tr>\n",
       "    <tr>\n",
       "      <th>0</th>\n",
       "      <td>3</td>\n",
       "      <td>0</td>\n",
       "      <td>2.00</td>\n",
       "      <td>[connect]</td>\n",
       "      <td>NaN</td>\n",
       "      <td>1</td>\n",
       "      <td>0</td>\n",
       "      <td>1.00</td>\n",
       "      <td>[]</td>\n",
       "    </tr>\n",
       "    <tr>\n",
       "      <th>0</th>\n",
       "      <td>4</td>\n",
       "      <td>0</td>\n",
       "      <td>1.75</td>\n",
       "      <td>[understand, together, support, sexual, orient...</td>\n",
       "      <td>NaN</td>\n",
       "      <td>6</td>\n",
       "      <td>3</td>\n",
       "      <td>0.75</td>\n",
       "      <td>[principle, individual, individual]</td>\n",
       "    </tr>\n",
       "  </tbody>\n",
       "</table>\n",
       "</div>"
      ],
      "text/plain": [
       "  articleID label  neutrSpecRatio  \\\n",
       "0         0     1            0.50   \n",
       "0         1     0            4.00   \n",
       "0         2     0            1.50   \n",
       "0         3     0            2.00   \n",
       "0         4     0            1.75   \n",
       "\n",
       "                                          neutrWords neutroSpecRatio  \\\n",
       "0                                                 []             NaN   \n",
       "0                     [support, sexual, orientation]             NaN   \n",
       "0                                [support, together]             NaN   \n",
       "0                                          [connect]             NaN   \n",
       "0  [understand, together, support, sexual, orient...             NaN   \n",
       "\n",
       "  num_neutrWords num_specWords  score                            specWords  \n",
       "0              0             1  -0.50                            [opinion]  \n",
       "0              3             0   3.00                                   []  \n",
       "0              2             1   0.50                           [decision]  \n",
       "0              1             0   1.00                                   []  \n",
       "0              6             3   0.75  [principle, individual, individual]  "
      ]
     },
     "execution_count": 24,
     "metadata": {},
     "output_type": "execute_result"
    }
   ],
   "source": [
    "equality_mat.head()"
   ]
  },
  {
   "cell_type": "code",
   "execution_count": 25,
   "metadata": {},
   "outputs": [
    {
     "data": {
      "text/plain": [
       "<map at 0x11a9f0b70>"
      ]
     },
     "execution_count": 25,
     "metadata": {},
     "output_type": "execute_result"
    }
   ],
   "source": [
    "map(lambda x: int(x), equality_mat['articleID'])\n",
    "#equality_mat['articleID']"
   ]
  },
  {
   "cell_type": "code",
   "execution_count": 26,
   "metadata": {
    "collapsed": true
   },
   "outputs": [],
   "source": [
    "labels = pd.DataFrame(data=equality_mat['label'])\n",
    "labels.reset_index(inplace=True)\n",
    "labels.drop('index', axis=1, inplace=True)\n",
    "labels = np.array(labels).ravel()\n",
    "labels = labels.astype('int')\n",
    "\n",
    "#Create train, test labels\n",
    "labels_train = labels[:100]\n",
    "labels_test = labels[100:]\n",
    "\n",
    "X = np.array(jds['description'][:100])\n",
    "#X_train, X_test, y_train, y_test"
   ]
  },
  {
   "cell_type": "code",
   "execution_count": 27,
   "metadata": {},
   "outputs": [
    {
     "data": {
      "text/plain": [
       "array([1, 0, 0, 0, 0, 1, 0, 1, 0, 0, 0, 0, 0, 0, 0, 0, 0, 1, 0, 0, 0, 0, 1,\n",
       "       0, 1, 1, 0, 0, 0, 1, 0, 1, 0, 0, 0, 1, 1, 1, 1, 0, 1, 1, 0, 0, 0, 0,\n",
       "       0, 1, 0, 0, 0, 1, 0, 1, 1, 0, 0, 0, 0, 0, 0, 0, 0, 0, 0, 0, 0, 0, 0,\n",
       "       0, 0, 0, 0, 0, 1, 0, 1, 0, 1, 0, 0, 0, 1, 1, 0, 1, 0, 0, 0, 0, 0, 0,\n",
       "       0, 1, 0, 0, 0, 0, 0, 1])"
      ]
     },
     "execution_count": 27,
     "metadata": {},
     "output_type": "execute_result"
    }
   ],
   "source": [
    "labels_train"
   ]
  },
  {
   "cell_type": "code",
   "execution_count": 28,
   "metadata": {
    "collapsed": true
   },
   "outputs": [],
   "source": [
    "# Change job descriptions to bag of words\n",
    "tfidf = TfidfVectorizer(stop_words='english', tokenizer=LemmaTokenizer())\n",
    "tfidf_mat = tfidf.fit_transform(X, labels_train)"
   ]
  },
  {
   "cell_type": "code",
   "execution_count": 29,
   "metadata": {
    "collapsed": true
   },
   "outputs": [],
   "source": [
    "X_test = jds[100:]['description']\n",
    "\n",
    "X_test = [article for article in X_test]"
   ]
  },
  {
   "cell_type": "code",
   "execution_count": 30,
   "metadata": {
    "collapsed": true
   },
   "outputs": [],
   "source": [
    "#Transform new documents\n",
    "\n",
    "count_vect = CountVectorizer()\n",
    "#X_test_counts = count_vect.transform(X_test)\n",
    "X_test_tfidf = tfidf.transform(X_test)"
   ]
  },
  {
   "cell_type": "code",
   "execution_count": 31,
   "metadata": {},
   "outputs": [
    {
     "data": {
      "text/plain": [
       "array([0, 0, 0, 0, 0, 0, 0, 0, 0, 0, 0, 0, 0, 0, 0, 0, 0, 0, 0, 0, 0, 0, 0,\n",
       "       0, 0, 0, 0, 0, 0, 0, 0, 0, 0, 0, 0, 0, 0, 0, 0, 0, 0, 0, 0, 0, 0])"
      ]
     },
     "execution_count": 31,
     "metadata": {},
     "output_type": "execute_result"
    }
   ],
   "source": [
    "# Predict whether article is masc or neutral\n",
    "# Naive Bayes\n",
    "clf = BernoulliNB().fit(tfidf_mat.todense(), labels_train)\n",
    "nb_preds = clf.predict(X_test_tfidf)\n",
    "nb_preds"
   ]
  },
  {
   "cell_type": "code",
   "execution_count": 32,
   "metadata": {},
   "outputs": [
    {
     "name": "stdout",
     "output_type": "stream",
     "text": [
      "Accuracy:  0.644444444444\n"
     ]
    }
   ],
   "source": [
    "print('Accuracy: ', (nb_preds == labels_test).sum()/len(nb_preds))"
   ]
  },
  {
   "cell_type": "code",
   "execution_count": 33,
   "metadata": {},
   "outputs": [
    {
     "data": {
      "text/plain": [
       "array([0, 0, 0, 0, 0, 0, 0, 1, 0, 0, 0, 0, 0, 0, 0, 0, 0, 0, 0, 0, 0, 0, 0,\n",
       "       0, 0, 0, 0, 1, 0, 0, 0, 0, 0, 0, 0, 0, 0, 0, 0, 0, 0, 0, 0, 0, 0])"
      ]
     },
     "execution_count": 33,
     "metadata": {},
     "output_type": "execute_result"
    }
   ],
   "source": [
    "# SVM model\n",
    "\n",
    "clf_svm = SGDClassifier()\n",
    "\n",
    "clf_svm.fit(tfidf_mat, labels_train)\n",
    "\n",
    "svm_preds = clf_svm.predict(X_test_tfidf)\n",
    "svm_preds"
   ]
  },
  {
   "cell_type": "code",
   "execution_count": 34,
   "metadata": {},
   "outputs": [
    {
     "name": "stdout",
     "output_type": "stream",
     "text": [
      "Accuracy:  0.688888888889\n"
     ]
    }
   ],
   "source": [
    "print('Accuracy: ', (svm_preds == labels_test).sum()/len(svm_preds))"
   ]
  },
  {
   "cell_type": "code",
   "execution_count": 35,
   "metadata": {},
   "outputs": [
    {
     "data": {
      "text/html": [
       "<div>\n",
       "<style>\n",
       "    .dataframe thead tr:only-child th {\n",
       "        text-align: right;\n",
       "    }\n",
       "\n",
       "    .dataframe thead th {\n",
       "        text-align: left;\n",
       "    }\n",
       "\n",
       "    .dataframe tbody tr th {\n",
       "        vertical-align: top;\n",
       "    }\n",
       "</style>\n",
       "<table border=\"1\" class=\"dataframe\">\n",
       "  <thead>\n",
       "    <tr style=\"text-align: right;\">\n",
       "      <th></th>\n",
       "      <th>neutrWords</th>\n",
       "      <th>specWords</th>\n",
       "    </tr>\n",
       "  </thead>\n",
       "  <tbody>\n",
       "    <tr>\n",
       "      <th>0</th>\n",
       "      <td>[]</td>\n",
       "      <td>[opinion]</td>\n",
       "    </tr>\n",
       "    <tr>\n",
       "      <th>0</th>\n",
       "      <td>[support, sexual, orientation]</td>\n",
       "      <td>[]</td>\n",
       "    </tr>\n",
       "    <tr>\n",
       "      <th>0</th>\n",
       "      <td>[support, together]</td>\n",
       "      <td>[decision]</td>\n",
       "    </tr>\n",
       "    <tr>\n",
       "      <th>0</th>\n",
       "      <td>[connect]</td>\n",
       "      <td>[]</td>\n",
       "    </tr>\n",
       "    <tr>\n",
       "      <th>0</th>\n",
       "      <td>[understand, together, support, sexual, orient...</td>\n",
       "      <td>[principle, individual, individual]</td>\n",
       "    </tr>\n",
       "    <tr>\n",
       "      <th>0</th>\n",
       "      <td>[support, support]</td>\n",
       "      <td>[lead, lead, lead, decision, active]</td>\n",
       "    </tr>\n",
       "    <tr>\n",
       "      <th>0</th>\n",
       "      <td>[understand, support, understand, sexual, orie...</td>\n",
       "      <td>[]</td>\n",
       "    </tr>\n",
       "    <tr>\n",
       "      <th>0</th>\n",
       "      <td>[support, together, support]</td>\n",
       "      <td>[principle, objective, logic, individual]</td>\n",
       "    </tr>\n",
       "    <tr>\n",
       "      <th>0</th>\n",
       "      <td>[connect, connect, connect, sexual, orientation]</td>\n",
       "      <td>[]</td>\n",
       "    </tr>\n",
       "    <tr>\n",
       "      <th>0</th>\n",
       "      <td>[support, support, trust]</td>\n",
       "      <td>[active]</td>\n",
       "    </tr>\n",
       "    <tr>\n",
       "      <th>0</th>\n",
       "      <td>[understand]</td>\n",
       "      <td>[]</td>\n",
       "    </tr>\n",
       "    <tr>\n",
       "      <th>0</th>\n",
       "      <td>[interpersonal, sexual, orientation]</td>\n",
       "      <td>[objective, decision]</td>\n",
       "    </tr>\n",
       "    <tr>\n",
       "      <th>0</th>\n",
       "      <td>[feel, support, understand]</td>\n",
       "      <td>[principle, individual, principle]</td>\n",
       "    </tr>\n",
       "    <tr>\n",
       "      <th>0</th>\n",
       "      <td>[support]</td>\n",
       "      <td>[]</td>\n",
       "    </tr>\n",
       "    <tr>\n",
       "      <th>0</th>\n",
       "      <td>[support, support, understand, understand, sex...</td>\n",
       "      <td>[]</td>\n",
       "    </tr>\n",
       "    <tr>\n",
       "      <th>0</th>\n",
       "      <td>[support, connect, connect, connect, connect, ...</td>\n",
       "      <td>[]</td>\n",
       "    </tr>\n",
       "    <tr>\n",
       "      <th>0</th>\n",
       "      <td>[support]</td>\n",
       "      <td>[individual]</td>\n",
       "    </tr>\n",
       "    <tr>\n",
       "      <th>0</th>\n",
       "      <td>[together, support, sexual, orientation]</td>\n",
       "      <td>[lead, decision, objective, individual, decisi...</td>\n",
       "    </tr>\n",
       "    <tr>\n",
       "      <th>0</th>\n",
       "      <td>[support, interpersonal, together, together, s...</td>\n",
       "      <td>[lead, principle]</td>\n",
       "    </tr>\n",
       "    <tr>\n",
       "      <th>0</th>\n",
       "      <td>[]</td>\n",
       "      <td>[]</td>\n",
       "    </tr>\n",
       "    <tr>\n",
       "      <th>0</th>\n",
       "      <td>[inclusive]</td>\n",
       "      <td>[]</td>\n",
       "    </tr>\n",
       "    <tr>\n",
       "      <th>0</th>\n",
       "      <td>[sexual, orientation]</td>\n",
       "      <td>[lead, individual]</td>\n",
       "    </tr>\n",
       "    <tr>\n",
       "      <th>0</th>\n",
       "      <td>[support, support, support, support]</td>\n",
       "      <td>[lead, lead, lead, lead, objective, lead, lead...</td>\n",
       "    </tr>\n",
       "    <tr>\n",
       "      <th>0</th>\n",
       "      <td>[support, understand, support, understand, sup...</td>\n",
       "      <td>[decision, lead, superior, principle]</td>\n",
       "    </tr>\n",
       "    <tr>\n",
       "      <th>0</th>\n",
       "      <td>[understand]</td>\n",
       "      <td>[driven, individual, active]</td>\n",
       "    </tr>\n",
       "    <tr>\n",
       "      <th>0</th>\n",
       "      <td>[]</td>\n",
       "      <td>[principle]</td>\n",
       "    </tr>\n",
       "    <tr>\n",
       "      <th>0</th>\n",
       "      <td>[support, support, support, support]</td>\n",
       "      <td>[]</td>\n",
       "    </tr>\n",
       "    <tr>\n",
       "      <th>0</th>\n",
       "      <td>[support, support, support, support, support, ...</td>\n",
       "      <td>[superior, individual]</td>\n",
       "    </tr>\n",
       "    <tr>\n",
       "      <th>0</th>\n",
       "      <td>[support]</td>\n",
       "      <td>[individual]</td>\n",
       "    </tr>\n",
       "    <tr>\n",
       "      <th>0</th>\n",
       "      <td>[together]</td>\n",
       "      <td>[active, logic]</td>\n",
       "    </tr>\n",
       "    <tr>\n",
       "      <th>...</th>\n",
       "      <td>...</td>\n",
       "      <td>...</td>\n",
       "    </tr>\n",
       "    <tr>\n",
       "      <th>0</th>\n",
       "      <td>[support, understand, sexual, orientation]</td>\n",
       "      <td>[individual, lead, individual]</td>\n",
       "    </tr>\n",
       "    <tr>\n",
       "      <th>0</th>\n",
       "      <td>[support]</td>\n",
       "      <td>[]</td>\n",
       "    </tr>\n",
       "    <tr>\n",
       "      <th>0</th>\n",
       "      <td>[support]</td>\n",
       "      <td>[]</td>\n",
       "    </tr>\n",
       "    <tr>\n",
       "      <th>0</th>\n",
       "      <td>[]</td>\n",
       "      <td>[]</td>\n",
       "    </tr>\n",
       "    <tr>\n",
       "      <th>0</th>\n",
       "      <td>[]</td>\n",
       "      <td>[]</td>\n",
       "    </tr>\n",
       "    <tr>\n",
       "      <th>0</th>\n",
       "      <td>[]</td>\n",
       "      <td>[principle]</td>\n",
       "    </tr>\n",
       "    <tr>\n",
       "      <th>0</th>\n",
       "      <td>[sexual, orientation]</td>\n",
       "      <td>[]</td>\n",
       "    </tr>\n",
       "    <tr>\n",
       "      <th>0</th>\n",
       "      <td>[support, support, understand, support]</td>\n",
       "      <td>[individual]</td>\n",
       "    </tr>\n",
       "    <tr>\n",
       "      <th>0</th>\n",
       "      <td>[]</td>\n",
       "      <td>[lead]</td>\n",
       "    </tr>\n",
       "    <tr>\n",
       "      <th>0</th>\n",
       "      <td>[understand, inter-personal]</td>\n",
       "      <td>[lead]</td>\n",
       "    </tr>\n",
       "    <tr>\n",
       "      <th>0</th>\n",
       "      <td>[connect, together, connect, sexual, orientation]</td>\n",
       "      <td>[decision]</td>\n",
       "    </tr>\n",
       "    <tr>\n",
       "      <th>0</th>\n",
       "      <td>[kind]</td>\n",
       "      <td>[lead, principle, driven]</td>\n",
       "    </tr>\n",
       "    <tr>\n",
       "      <th>0</th>\n",
       "      <td>[]</td>\n",
       "      <td>[lead]</td>\n",
       "    </tr>\n",
       "    <tr>\n",
       "      <th>0</th>\n",
       "      <td>[]</td>\n",
       "      <td>[]</td>\n",
       "    </tr>\n",
       "    <tr>\n",
       "      <th>0</th>\n",
       "      <td>[support]</td>\n",
       "      <td>[lead, lead, lead]</td>\n",
       "    </tr>\n",
       "    <tr>\n",
       "      <th>0</th>\n",
       "      <td>[together]</td>\n",
       "      <td>[individual, driven, boast]</td>\n",
       "    </tr>\n",
       "    <tr>\n",
       "      <th>0</th>\n",
       "      <td>[support]</td>\n",
       "      <td>[lead, driven, driven, individual]</td>\n",
       "    </tr>\n",
       "    <tr>\n",
       "      <th>0</th>\n",
       "      <td>[support]</td>\n",
       "      <td>[superior]</td>\n",
       "    </tr>\n",
       "    <tr>\n",
       "      <th>0</th>\n",
       "      <td>[]</td>\n",
       "      <td>[]</td>\n",
       "    </tr>\n",
       "    <tr>\n",
       "      <th>0</th>\n",
       "      <td>[feel]</td>\n",
       "      <td>[champion]</td>\n",
       "    </tr>\n",
       "    <tr>\n",
       "      <th>0</th>\n",
       "      <td>[]</td>\n",
       "      <td>[individual]</td>\n",
       "    </tr>\n",
       "    <tr>\n",
       "      <th>0</th>\n",
       "      <td>[support, sexual, orientation]</td>\n",
       "      <td>[]</td>\n",
       "    </tr>\n",
       "    <tr>\n",
       "      <th>0</th>\n",
       "      <td>[together, understand, sexual, orientation]</td>\n",
       "      <td>[individual, lead, objective]</td>\n",
       "    </tr>\n",
       "    <tr>\n",
       "      <th>0</th>\n",
       "      <td>[sexual, orientation]</td>\n",
       "      <td>[lead]</td>\n",
       "    </tr>\n",
       "    <tr>\n",
       "      <th>0</th>\n",
       "      <td>[understand, sexual, orientation]</td>\n",
       "      <td>[decision, lead, principle, driven, principle,...</td>\n",
       "    </tr>\n",
       "    <tr>\n",
       "      <th>0</th>\n",
       "      <td>[trust, support, support, support, support, su...</td>\n",
       "      <td>[lead, active, objective, active]</td>\n",
       "    </tr>\n",
       "    <tr>\n",
       "      <th>0</th>\n",
       "      <td>[sexual, orientation]</td>\n",
       "      <td>[decision]</td>\n",
       "    </tr>\n",
       "    <tr>\n",
       "      <th>0</th>\n",
       "      <td>[]</td>\n",
       "      <td>[]</td>\n",
       "    </tr>\n",
       "    <tr>\n",
       "      <th>0</th>\n",
       "      <td>[support, support, together, together, sexual,...</td>\n",
       "      <td>[force]</td>\n",
       "    </tr>\n",
       "    <tr>\n",
       "      <th>0</th>\n",
       "      <td>[support, support]</td>\n",
       "      <td>[]</td>\n",
       "    </tr>\n",
       "  </tbody>\n",
       "</table>\n",
       "<p>145 rows × 2 columns</p>\n",
       "</div>"
      ],
      "text/plain": [
       "                                           neutrWords  \\\n",
       "0                                                  []   \n",
       "0                      [support, sexual, orientation]   \n",
       "0                                 [support, together]   \n",
       "0                                           [connect]   \n",
       "0   [understand, together, support, sexual, orient...   \n",
       "0                                  [support, support]   \n",
       "0   [understand, support, understand, sexual, orie...   \n",
       "0                        [support, together, support]   \n",
       "0    [connect, connect, connect, sexual, orientation]   \n",
       "0                           [support, support, trust]   \n",
       "0                                        [understand]   \n",
       "0                [interpersonal, sexual, orientation]   \n",
       "0                         [feel, support, understand]   \n",
       "0                                           [support]   \n",
       "0   [support, support, understand, understand, sex...   \n",
       "0   [support, connect, connect, connect, connect, ...   \n",
       "0                                           [support]   \n",
       "0            [together, support, sexual, orientation]   \n",
       "0   [support, interpersonal, together, together, s...   \n",
       "0                                                  []   \n",
       "0                                         [inclusive]   \n",
       "0                               [sexual, orientation]   \n",
       "0                [support, support, support, support]   \n",
       "0   [support, understand, support, understand, sup...   \n",
       "0                                        [understand]   \n",
       "0                                                  []   \n",
       "0                [support, support, support, support]   \n",
       "0   [support, support, support, support, support, ...   \n",
       "0                                           [support]   \n",
       "0                                          [together]   \n",
       "..                                                ...   \n",
       "0          [support, understand, sexual, orientation]   \n",
       "0                                           [support]   \n",
       "0                                           [support]   \n",
       "0                                                  []   \n",
       "0                                                  []   \n",
       "0                                                  []   \n",
       "0                               [sexual, orientation]   \n",
       "0             [support, support, understand, support]   \n",
       "0                                                  []   \n",
       "0                        [understand, inter-personal]   \n",
       "0   [connect, together, connect, sexual, orientation]   \n",
       "0                                              [kind]   \n",
       "0                                                  []   \n",
       "0                                                  []   \n",
       "0                                           [support]   \n",
       "0                                          [together]   \n",
       "0                                           [support]   \n",
       "0                                           [support]   \n",
       "0                                                  []   \n",
       "0                                              [feel]   \n",
       "0                                                  []   \n",
       "0                      [support, sexual, orientation]   \n",
       "0         [together, understand, sexual, orientation]   \n",
       "0                               [sexual, orientation]   \n",
       "0                   [understand, sexual, orientation]   \n",
       "0   [trust, support, support, support, support, su...   \n",
       "0                               [sexual, orientation]   \n",
       "0                                                  []   \n",
       "0   [support, support, together, together, sexual,...   \n",
       "0                                  [support, support]   \n",
       "\n",
       "                                            specWords  \n",
       "0                                           [opinion]  \n",
       "0                                                  []  \n",
       "0                                          [decision]  \n",
       "0                                                  []  \n",
       "0                 [principle, individual, individual]  \n",
       "0                [lead, lead, lead, decision, active]  \n",
       "0                                                  []  \n",
       "0           [principle, objective, logic, individual]  \n",
       "0                                                  []  \n",
       "0                                            [active]  \n",
       "0                                                  []  \n",
       "0                               [objective, decision]  \n",
       "0                  [principle, individual, principle]  \n",
       "0                                                  []  \n",
       "0                                                  []  \n",
       "0                                                  []  \n",
       "0                                        [individual]  \n",
       "0   [lead, decision, objective, individual, decisi...  \n",
       "0                                   [lead, principle]  \n",
       "0                                                  []  \n",
       "0                                                  []  \n",
       "0                                  [lead, individual]  \n",
       "0   [lead, lead, lead, lead, objective, lead, lead...  \n",
       "0               [decision, lead, superior, principle]  \n",
       "0                        [driven, individual, active]  \n",
       "0                                         [principle]  \n",
       "0                                                  []  \n",
       "0                              [superior, individual]  \n",
       "0                                        [individual]  \n",
       "0                                     [active, logic]  \n",
       "..                                                ...  \n",
       "0                      [individual, lead, individual]  \n",
       "0                                                  []  \n",
       "0                                                  []  \n",
       "0                                                  []  \n",
       "0                                                  []  \n",
       "0                                         [principle]  \n",
       "0                                                  []  \n",
       "0                                        [individual]  \n",
       "0                                              [lead]  \n",
       "0                                              [lead]  \n",
       "0                                          [decision]  \n",
       "0                           [lead, principle, driven]  \n",
       "0                                              [lead]  \n",
       "0                                                  []  \n",
       "0                                  [lead, lead, lead]  \n",
       "0                         [individual, driven, boast]  \n",
       "0                  [lead, driven, driven, individual]  \n",
       "0                                          [superior]  \n",
       "0                                                  []  \n",
       "0                                          [champion]  \n",
       "0                                        [individual]  \n",
       "0                                                  []  \n",
       "0                       [individual, lead, objective]  \n",
       "0                                              [lead]  \n",
       "0   [decision, lead, principle, driven, principle,...  \n",
       "0                   [lead, active, objective, active]  \n",
       "0                                          [decision]  \n",
       "0                                                  []  \n",
       "0                                             [force]  \n",
       "0                                                  []  \n",
       "\n",
       "[145 rows x 2 columns]"
      ]
     },
     "execution_count": 35,
     "metadata": {},
     "output_type": "execute_result"
    }
   ],
   "source": [
    "# identify trigger words\n",
    "\n",
    "equality_mat[['neutrWords', 'specWords']]"
   ]
  },
  {
   "cell_type": "code",
   "execution_count": 36,
   "metadata": {
    "collapsed": true
   },
   "outputs": [],
   "source": [
    "# identify most related keywords for each group using SVD/NMF\n",
    "\n"
   ]
  },
  {
   "cell_type": "markdown",
   "metadata": {},
   "source": [
    "### IBM NLU"
   ]
  },
  {
   "cell_type": "code",
   "execution_count": 53,
   "metadata": {},
   "outputs": [
    {
     "data": {
      "text/html": [
       "<div>\n",
       "<style>\n",
       "    .dataframe thead tr:only-child th {\n",
       "        text-align: right;\n",
       "    }\n",
       "\n",
       "    .dataframe thead th {\n",
       "        text-align: left;\n",
       "    }\n",
       "\n",
       "    .dataframe tbody tr th {\n",
       "        vertical-align: top;\n",
       "    }\n",
       "</style>\n",
       "<table border=\"1\" class=\"dataframe\">\n",
       "  <thead>\n",
       "    <tr style=\"text-align: right;\">\n",
       "      <th></th>\n",
       "      <th>description</th>\n",
       "      <th>sentiment_score</th>\n",
       "    </tr>\n",
       "  </thead>\n",
       "  <tbody>\n",
       "    <tr>\n",
       "      <th>0</th>\n",
       "      <td>The Overview\\n\\nWe're looking for smart, curio...</td>\n",
       "      <td>NaN</td>\n",
       "    </tr>\n",
       "    <tr>\n",
       "      <th>1</th>\n",
       "      <td>Job Description\\nAre you looking for an exciti...</td>\n",
       "      <td>NaN</td>\n",
       "    </tr>\n",
       "    <tr>\n",
       "      <th>2</th>\n",
       "      <td>CALA is building apparel manufacturing, invent...</td>\n",
       "      <td>NaN</td>\n",
       "    </tr>\n",
       "    <tr>\n",
       "      <th>3</th>\n",
       "      <td>Greenhouse is looking for a Software Engineer ...</td>\n",
       "      <td>NaN</td>\n",
       "    </tr>\n",
       "    <tr>\n",
       "      <th>4</th>\n",
       "      <td>Bring your experience in Software Engineering ...</td>\n",
       "      <td>NaN</td>\n",
       "    </tr>\n",
       "  </tbody>\n",
       "</table>\n",
       "</div>"
      ],
      "text/plain": [
       "                                         description sentiment_score\n",
       "0  The Overview\\n\\nWe're looking for smart, curio...             NaN\n",
       "1  Job Description\\nAre you looking for an exciti...             NaN\n",
       "2  CALA is building apparel manufacturing, invent...             NaN\n",
       "3  Greenhouse is looking for a Software Engineer ...             NaN\n",
       "4  Bring your experience in Software Engineering ...             NaN"
      ]
     },
     "execution_count": 53,
     "metadata": {},
     "output_type": "execute_result"
    }
   ],
   "source": [
    "ibm_nlu = pd.DataFrame(columns=['description', 'sentiment_score'])\n",
    "ibm_nlu['description'] = jds['description']\n",
    "\n",
    "ibm_nlu.head()"
   ]
  },
  {
   "cell_type": "code",
   "execution_count": 111,
   "metadata": {
    "collapsed": true
   },
   "outputs": [],
   "source": [
    "ibm_nlu.iloc[36]['sentiment_score'] = {\n",
    "    \"sadness\": 0.08576,\n",
    "    \"joy\": 0.683555,\n",
    "    \"fear\": 0.039506,\n",
    "    \"disgust\": 0.023515,\n",
    "    \"anger\": 0.041906\n",
    "   }"
   ]
  },
  {
   "cell_type": "code",
   "execution_count": null,
   "metadata": {
    "collapsed": true
   },
   "outputs": [],
   "source": []
  },
  {
   "cell_type": "code",
   "execution_count": 143,
   "metadata": {},
   "outputs": [],
   "source": [
    "ibm_nlu['articleID'] = ibm_nlu.index\n",
    "ibm_nlu_sent = ibm_nlu[ibm_nlu['sentiment_score'].isnull() != True]"
   ]
  },
  {
   "cell_type": "code",
   "execution_count": 144,
   "metadata": {},
   "outputs": [
    {
     "name": "stderr",
     "output_type": "stream",
     "text": [
      "/Users/mattheweng/anaconda/lib/python3.6/site-packages/ipykernel_launcher.py:1: SettingWithCopyWarning: \n",
      "A value is trying to be set on a copy of a slice from a DataFrame.\n",
      "Try using .loc[row_indexer,col_indexer] = value instead\n",
      "\n",
      "See the caveats in the documentation: http://pandas.pydata.org/pandas-docs/stable/indexing.html#indexing-view-versus-copy\n",
      "  \"\"\"Entry point for launching an IPython kernel.\n",
      "/Users/mattheweng/anaconda/lib/python3.6/site-packages/ipykernel_launcher.py:2: SettingWithCopyWarning: \n",
      "A value is trying to be set on a copy of a slice from a DataFrame.\n",
      "Try using .loc[row_indexer,col_indexer] = value instead\n",
      "\n",
      "See the caveats in the documentation: http://pandas.pydata.org/pandas-docs/stable/indexing.html#indexing-view-versus-copy\n",
      "  \n",
      "/Users/mattheweng/anaconda/lib/python3.6/site-packages/ipykernel_launcher.py:3: SettingWithCopyWarning: \n",
      "A value is trying to be set on a copy of a slice from a DataFrame.\n",
      "Try using .loc[row_indexer,col_indexer] = value instead\n",
      "\n",
      "See the caveats in the documentation: http://pandas.pydata.org/pandas-docs/stable/indexing.html#indexing-view-versus-copy\n",
      "  This is separate from the ipykernel package so we can avoid doing imports until\n",
      "/Users/mattheweng/anaconda/lib/python3.6/site-packages/ipykernel_launcher.py:4: SettingWithCopyWarning: \n",
      "A value is trying to be set on a copy of a slice from a DataFrame.\n",
      "Try using .loc[row_indexer,col_indexer] = value instead\n",
      "\n",
      "See the caveats in the documentation: http://pandas.pydata.org/pandas-docs/stable/indexing.html#indexing-view-versus-copy\n",
      "  after removing the cwd from sys.path.\n",
      "/Users/mattheweng/anaconda/lib/python3.6/site-packages/ipykernel_launcher.py:5: SettingWithCopyWarning: \n",
      "A value is trying to be set on a copy of a slice from a DataFrame.\n",
      "Try using .loc[row_indexer,col_indexer] = value instead\n",
      "\n",
      "See the caveats in the documentation: http://pandas.pydata.org/pandas-docs/stable/indexing.html#indexing-view-versus-copy\n",
      "  \"\"\"\n"
     ]
    }
   ],
   "source": [
    "ibm_nlu_sent['anger'] = ibm_nlu_sent['sentiment_score'].apply(lambda x: x['anger'])\n",
    "ibm_nlu_sent['sadness'] = ibm_nlu_sent['sentiment_score'].apply(lambda x: x['sadness'])\n",
    "ibm_nlu_sent['fear'] = ibm_nlu_sent['sentiment_score'].apply(lambda x: x['fear'])\n",
    "ibm_nlu_sent['joy'] = ibm_nlu_sent['sentiment_score'].apply(lambda x: x['joy'])\n",
    "ibm_nlu_sent['disgust'] = ibm_nlu_sent['sentiment_score'].apply(lambda x: x['disgust'])"
   ]
  },
  {
   "cell_type": "code",
   "execution_count": 145,
   "metadata": {},
   "outputs": [
    {
     "name": "stderr",
     "output_type": "stream",
     "text": [
      "/Users/mattheweng/anaconda/lib/python3.6/site-packages/ipykernel_launcher.py:1: SettingWithCopyWarning: \n",
      "A value is trying to be set on a copy of a slice from a DataFrame\n",
      "\n",
      "See the caveats in the documentation: http://pandas.pydata.org/pandas-docs/stable/indexing.html#indexing-view-versus-copy\n",
      "  \"\"\"Entry point for launching an IPython kernel.\n"
     ]
    }
   ],
   "source": [
    "ibm_nlu_sent.drop('sentiment_score', axis=1, inplace=True)"
   ]
  },
  {
   "cell_type": "code",
   "execution_count": 146,
   "metadata": {},
   "outputs": [],
   "source": [
    "ibm_nlu['articleID'] = ibm_nlu.index"
   ]
  },
  {
   "cell_type": "code",
   "execution_count": 153,
   "metadata": {},
   "outputs": [],
   "source": [
    "sent_labels = equality_mat[['articleID', 'label']]"
   ]
  },
  {
   "cell_type": "code",
   "execution_count": 155,
   "metadata": {},
   "outputs": [],
   "source": [
    "ibm_nlu_sent = pd.merge(ibm_nlu_sent, sent_labels)\n",
    "ibm_nlu_sent.drop('description', axis=1, inplace=True)\n",
    "ibm_nlu_sent = ibm_nlu_sent.set_index('articleID')"
   ]
  },
  {
   "cell_type": "code",
   "execution_count": 168,
   "metadata": {},
   "outputs": [
    {
     "data": {
      "text/plain": [
       "0.52631578947368418"
      ]
     },
     "execution_count": 168,
     "metadata": {},
     "output_type": "execute_result"
    }
   ],
   "source": [
    "# naive bayes sentiment analysis\n",
    "X_sent_train = np.array(ibm_nlu_sent.drop('label', axis=1))\n",
    "y_sent_train = list(ibm_nlu_sent['label'])\n",
    "\n",
    "# Predict whether article is masc or neutral\n",
    "# Naive Bayes\n",
    "sent_clf_nb = BernoulliNB().fit(X_sent_train, y_sent_train)\n",
    "nb_preds = sent_clf_nb.predict(X_sent_train)\n",
    "(nb_preds == y_sent_train).sum()/len(X_sent_train)"
   ]
  },
  {
   "cell_type": "markdown",
   "metadata": {},
   "source": [
    "# Django app"
   ]
  },
  {
   "cell_type": "code",
   "execution_count": null,
   "metadata": {
    "collapsed": true
   },
   "outputs": [],
   "source": [
    "import django"
   ]
  },
  {
   "cell_type": "code",
   "execution_count": null,
   "metadata": {
    "collapsed": true
   },
   "outputs": [],
   "source": []
  },
  {
   "cell_type": "code",
   "execution_count": null,
   "metadata": {
    "collapsed": true
   },
   "outputs": [],
   "source": []
  }
 ],
 "metadata": {
  "kernelspec": {
   "display_name": "Python 3",
   "language": "python",
   "name": "python3"
  },
  "language_info": {
   "codemirror_mode": {
    "name": "ipython",
    "version": 3
   },
   "file_extension": ".py",
   "mimetype": "text/x-python",
   "name": "python",
   "nbconvert_exporter": "python",
   "pygments_lexer": "ipython3",
   "version": "3.6.3"
  }
 },
 "nbformat": 4,
 "nbformat_minor": 2
}
